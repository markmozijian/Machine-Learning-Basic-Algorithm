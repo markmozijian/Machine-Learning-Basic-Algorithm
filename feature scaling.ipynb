{
 "cells": [
  {
   "cell_type": "code",
   "execution_count": 1,
   "metadata": {},
   "outputs": [],
   "source": [
    "import numpy as np\n",
    "import matplotlib.pyplot as plt"
   ]
  },
  {
   "cell_type": "markdown",
   "metadata": {},
   "source": [
    "1. Normalization"
   ]
  },
  {
   "cell_type": "code",
   "execution_count": 2,
   "metadata": {},
   "outputs": [],
   "source": [
    "x = np.random.randint(0,100, size=100)"
   ]
  },
  {
   "cell_type": "code",
   "execution_count": 3,
   "metadata": {},
   "outputs": [
    {
     "data": {
      "text/plain": [
       "array([41,  6, 21, 58, 21, 24, 63, 69, 66, 83, 77, 70, 46, 81,  9,  3, 70,\n",
       "       24, 47,  8, 85, 20, 78, 36, 38, 18,  6, 43, 68, 66, 49, 58, 57, 45,\n",
       "       67, 57, 50, 99, 32, 45, 15, 34, 63,  5, 74, 98, 77, 75, 60, 44, 65,\n",
       "       50, 45, 25, 48,  5,  7, 19, 22, 62, 47, 75, 88, 82, 51, 95, 46, 33,\n",
       "       80, 39, 18,  4, 94, 32, 92, 94, 67, 21, 61, 91, 46, 54, 30, 48, 16,\n",
       "       97, 82, 98, 71, 50, 52, 20, 73, 69, 91, 37,  8, 25, 42,  3])"
      ]
     },
     "execution_count": 3,
     "metadata": {},
     "output_type": "execute_result"
    }
   ],
   "source": [
    "x"
   ]
  },
  {
   "cell_type": "code",
   "execution_count": 4,
   "metadata": {},
   "outputs": [
    {
     "data": {
      "text/plain": [
       "array([0.39583333, 0.03125   , 0.1875    , 0.57291667, 0.1875    ,\n",
       "       0.21875   , 0.625     , 0.6875    , 0.65625   , 0.83333333,\n",
       "       0.77083333, 0.69791667, 0.44791667, 0.8125    , 0.0625    ,\n",
       "       0.        , 0.69791667, 0.21875   , 0.45833333, 0.05208333,\n",
       "       0.85416667, 0.17708333, 0.78125   , 0.34375   , 0.36458333,\n",
       "       0.15625   , 0.03125   , 0.41666667, 0.67708333, 0.65625   ,\n",
       "       0.47916667, 0.57291667, 0.5625    , 0.4375    , 0.66666667,\n",
       "       0.5625    , 0.48958333, 1.        , 0.30208333, 0.4375    ,\n",
       "       0.125     , 0.32291667, 0.625     , 0.02083333, 0.73958333,\n",
       "       0.98958333, 0.77083333, 0.75      , 0.59375   , 0.42708333,\n",
       "       0.64583333, 0.48958333, 0.4375    , 0.22916667, 0.46875   ,\n",
       "       0.02083333, 0.04166667, 0.16666667, 0.19791667, 0.61458333,\n",
       "       0.45833333, 0.75      , 0.88541667, 0.82291667, 0.5       ,\n",
       "       0.95833333, 0.44791667, 0.3125    , 0.80208333, 0.375     ,\n",
       "       0.15625   , 0.01041667, 0.94791667, 0.30208333, 0.92708333,\n",
       "       0.94791667, 0.66666667, 0.1875    , 0.60416667, 0.91666667,\n",
       "       0.44791667, 0.53125   , 0.28125   , 0.46875   , 0.13541667,\n",
       "       0.97916667, 0.82291667, 0.98958333, 0.70833333, 0.48958333,\n",
       "       0.51041667, 0.17708333, 0.72916667, 0.6875    , 0.91666667,\n",
       "       0.35416667, 0.05208333, 0.22916667, 0.40625   , 0.        ])"
      ]
     },
     "execution_count": 4,
     "metadata": {},
     "output_type": "execute_result"
    }
   ],
   "source": [
    "(x - np.min(x)) / (np.max(x) - np.min(x))"
   ]
  },
  {
   "cell_type": "code",
   "execution_count": 16,
   "metadata": {},
   "outputs": [],
   "source": [
    "x = np.random.randint(0,100, (50, 2))"
   ]
  },
  {
   "cell_type": "code",
   "execution_count": 17,
   "metadata": {},
   "outputs": [],
   "source": [
    "x = np.array(x, dtype = float)"
   ]
  },
  {
   "cell_type": "code",
   "execution_count": 19,
   "metadata": {
    "scrolled": true
   },
   "outputs": [
    {
     "data": {
      "text/plain": [
       "array([[35., 15.],\n",
       "       [96.,  3.],\n",
       "       [72., 57.],\n",
       "       [98., 60.],\n",
       "       [87., 94.],\n",
       "       [38., 49.],\n",
       "       [44.,  9.],\n",
       "       [15., 90.],\n",
       "       [96., 23.],\n",
       "       [42., 17.],\n",
       "       [65., 36.],\n",
       "       [29., 55.],\n",
       "       [70., 29.],\n",
       "       [91., 17.],\n",
       "       [96., 68.],\n",
       "       [96., 15.],\n",
       "       [96., 20.],\n",
       "       [19., 84.],\n",
       "       [65., 43.],\n",
       "       [59., 93.],\n",
       "       [85., 68.],\n",
       "       [61., 94.],\n",
       "       [48., 73.],\n",
       "       [43.,  1.],\n",
       "       [20., 20.],\n",
       "       [44.,  3.],\n",
       "       [26., 98.],\n",
       "       [30.,  0.],\n",
       "       [16., 44.],\n",
       "       [20., 14.],\n",
       "       [71., 18.],\n",
       "       [55., 86.],\n",
       "       [44., 84.],\n",
       "       [49., 91.],\n",
       "       [43., 43.],\n",
       "       [59., 29.],\n",
       "       [ 8.,  2.],\n",
       "       [99., 46.],\n",
       "       [ 9., 55.],\n",
       "       [21., 14.],\n",
       "       [17., 49.],\n",
       "       [84., 41.],\n",
       "       [41., 60.],\n",
       "       [74., 19.],\n",
       "       [18., 66.],\n",
       "       [81., 36.],\n",
       "       [44., 55.],\n",
       "       [83., 38.],\n",
       "       [58., 98.],\n",
       "       [18., 31.]])"
      ]
     },
     "execution_count": 19,
     "metadata": {},
     "output_type": "execute_result"
    }
   ],
   "source": [
    "x"
   ]
  },
  {
   "cell_type": "code",
   "execution_count": 21,
   "metadata": {},
   "outputs": [],
   "source": [
    "for i in range(2):\n",
    "    x[:,i] = (x[:,i] - np.min(x[:,i])) / (np.max(x[:,i]) - np.min(x[:,i]))"
   ]
  },
  {
   "cell_type": "code",
   "execution_count": 22,
   "metadata": {},
   "outputs": [
    {
     "data": {
      "text/plain": [
       "array([[0.2967033 , 0.15306122],\n",
       "       [0.96703297, 0.03061224],\n",
       "       [0.7032967 , 0.58163265],\n",
       "       [0.98901099, 0.6122449 ],\n",
       "       [0.86813187, 0.95918367],\n",
       "       [0.32967033, 0.5       ],\n",
       "       [0.3956044 , 0.09183673],\n",
       "       [0.07692308, 0.91836735],\n",
       "       [0.96703297, 0.23469388],\n",
       "       [0.37362637, 0.17346939],\n",
       "       [0.62637363, 0.36734694],\n",
       "       [0.23076923, 0.56122449],\n",
       "       [0.68131868, 0.29591837],\n",
       "       [0.91208791, 0.17346939],\n",
       "       [0.96703297, 0.69387755],\n",
       "       [0.96703297, 0.15306122],\n",
       "       [0.96703297, 0.20408163],\n",
       "       [0.12087912, 0.85714286],\n",
       "       [0.62637363, 0.43877551],\n",
       "       [0.56043956, 0.94897959],\n",
       "       [0.84615385, 0.69387755],\n",
       "       [0.58241758, 0.95918367],\n",
       "       [0.43956044, 0.74489796],\n",
       "       [0.38461538, 0.01020408],\n",
       "       [0.13186813, 0.20408163],\n",
       "       [0.3956044 , 0.03061224],\n",
       "       [0.1978022 , 1.        ],\n",
       "       [0.24175824, 0.        ],\n",
       "       [0.08791209, 0.44897959],\n",
       "       [0.13186813, 0.14285714],\n",
       "       [0.69230769, 0.18367347],\n",
       "       [0.51648352, 0.87755102],\n",
       "       [0.3956044 , 0.85714286],\n",
       "       [0.45054945, 0.92857143],\n",
       "       [0.38461538, 0.43877551],\n",
       "       [0.56043956, 0.29591837],\n",
       "       [0.        , 0.02040816],\n",
       "       [1.        , 0.46938776],\n",
       "       [0.01098901, 0.56122449],\n",
       "       [0.14285714, 0.14285714],\n",
       "       [0.0989011 , 0.5       ],\n",
       "       [0.83516484, 0.41836735],\n",
       "       [0.36263736, 0.6122449 ],\n",
       "       [0.72527473, 0.19387755],\n",
       "       [0.10989011, 0.67346939],\n",
       "       [0.8021978 , 0.36734694],\n",
       "       [0.3956044 , 0.56122449],\n",
       "       [0.82417582, 0.3877551 ],\n",
       "       [0.54945055, 1.        ],\n",
       "       [0.10989011, 0.31632653]])"
      ]
     },
     "execution_count": 22,
     "metadata": {},
     "output_type": "execute_result"
    }
   ],
   "source": [
    "x"
   ]
  },
  {
   "cell_type": "code",
   "execution_count": 24,
   "metadata": {},
   "outputs": [
    {
     "data": {
      "image/png": "[encoded data removed]",
      "text/plain": [
       "<Figure size 432x288 with 1 Axes>"
      ]
     },
     "metadata": {
      "needs_background": "light"
     },
     "output_type": "display_data"
    }
   ],
   "source": [
    "plt.scatter(x[:,0], x[:,1])\n",
    "plt.show()"
   ]
  },
  {
   "cell_type": "code",
   "execution_count": 25,
   "metadata": {},
   "outputs": [
    {
     "data": {
      "text/plain": [
       "0.5006593406593407"
      ]
     },
     "execution_count": 25,
     "metadata": {},
     "output_type": "execute_result"
    }
   ],
   "source": [
    "# mean\n",
    "np.mean(x[:,0])"
   ]
  },
  {
   "cell_type": "code",
   "execution_count": 26,
   "metadata": {},
   "outputs": [
    {
     "data": {
      "text/plain": [
       "0.3092516218747608"
      ]
     },
     "execution_count": 26,
     "metadata": {},
     "output_type": "execute_result"
    }
   ],
   "source": [
    "# standard deviation\n",
    "np.std(x[:,0])"
   ]
  },
  {
   "cell_type": "markdown",
   "metadata": {},
   "source": [
    "2. Standardization"
   ]
  },
  {
   "cell_type": "code",
   "execution_count": 45,
   "metadata": {},
   "outputs": [],
   "source": [
    "x = np.random.randint(0, 100, (50, 2))"
   ]
  },
  {
   "cell_type": "code",
   "execution_count": 46,
   "metadata": {},
   "outputs": [],
   "source": [
    "x = np.array(x, dtype = float)"
   ]
  },
  {
   "cell_type": "code",
   "execution_count": 47,
   "metadata": {},
   "outputs": [],
   "source": [
    "for i in range(2):\n",
    "    x[:,i] = (x[:,i] - np.mean(x[:,i])) / np.std(x[:,i])"
   ]
  },
  {
   "cell_type": "code",
   "execution_count": 48,
   "metadata": {},
   "outputs": [
    {
     "data": {
      "image/png": "[encoded data removed]",
      "text/plain": [
       "<Figure size 432x288 with 1 Axes>"
      ]
     },
     "metadata": {
      "needs_background": "light"
     },
     "output_type": "display_data"
    }
   ],
   "source": [
    "plt.scatter(x[:,0], x[:,1])\n",
    "plt.show()"
   ]
  },
  {
   "cell_type": "code",
   "execution_count": 49,
   "metadata": {},
   "outputs": [
    {
     "data": {
      "text/plain": [
       "-5.329070518200751e-17"
      ]
     },
     "execution_count": 49,
     "metadata": {},
     "output_type": "execute_result"
    }
   ],
   "source": [
    "np.mean(x[:,0])"
   ]
  },
  {
   "cell_type": "code",
   "execution_count": 50,
   "metadata": {},
   "outputs": [
    {
     "data": {
      "text/plain": [
       "1.0"
      ]
     },
     "execution_count": 50,
     "metadata": {},
     "output_type": "execute_result"
    }
   ],
   "source": [
    "np.std(x[:,0])"
   ]
  },
  {
   "cell_type": "code",
   "execution_count": 51,
   "metadata": {},
   "outputs": [
    {
     "data": {
      "text/plain": [
       "4.3298697960381107e-17"
      ]
     },
     "execution_count": 51,
     "metadata": {},
     "output_type": "execute_result"
    }
   ],
   "source": [
    "np.mean(x[:,1])"
   ]
  },
  {
   "cell_type": "code",
   "execution_count": 52,
   "metadata": {},
   "outputs": [
    {
     "data": {
      "text/plain": [
       "0.9999999999999999"
      ]
     },
     "execution_count": 52,
     "metadata": {},
     "output_type": "execute_result"
    }
   ],
   "source": [
    "np.std(x[:,1])"
   ]
  },
  {
   "cell_type": "code",
   "execution_count": null,
   "metadata": {},
   "outputs": [],
   "source": []
  }
 ],
 "metadata": {
  "kernelspec": {
   "display_name": "Python 3",
   "language": "python",
   "name": "python3"
  },
  "language_info": {
   "codemirror_mode": {
    "name": "ipython",
    "version": 3
   },
   "file_extension": ".py",
   "mimetype": "text/x-python",
   "name": "python",
   "nbconvert_exporter": "python",
   "pygments_lexer": "ipython3",
   "version": "3.7.3"
  }
 },
 "nbformat": 4,
 "nbformat_minor": 2
}
