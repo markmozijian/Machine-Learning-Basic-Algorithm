{
 "cells": [
  {
   "cell_type": "markdown",
   "metadata": {},
   "source": [
    "Try to recreate the assaingments in Machine Learning Standford course in Coursera using Python."
   ]
  },
  {
   "cell_type": "markdown",
   "metadata": {},
   "source": [
    "# Assigment 1 Gradient descent "
   ]
  },
  {
   "cell_type": "markdown",
   "metadata": {},
   "source": [
    "<a href=#step2>Data Visualization</a>"
   ]
  },
  {
   "cell_type": "markdown",
   "metadata": {},
   "source": [
    "<a href=#step1>Implement cost function</a>"
   ]
  },
  {
   "cell_type": "markdown",
   "metadata": {},
   "source": [
    "<a href=#step3>Implement Gradient Descent</a>"
   ]
  },
  {
   "cell_type": "markdown",
   "metadata": {},
   "source": [
    "<a href=#step4>Run Gradient Descent and predict</a>"
   ]
  },
  {
   "cell_type": "code",
   "execution_count": 1,
   "metadata": {},
   "outputs": [],
   "source": [
    "import numpy as np \n",
    "import matplotlib.pyplot as plt"
   ]
  },
  {
   "cell_type": "markdown",
   "metadata": {},
   "source": [
    "Step 1 : Data Visualization <a name='step2' />"
   ]
  },
  {
   "cell_type": "code",
   "execution_count": 2,
   "metadata": {},
   "outputs": [],
   "source": [
    "def plotData(x, y):\n",
    "    # ‘rx’ stands for red crosses\n",
    "    plt.plot(x,y,'rx', markersize=10, label='Training data')\n",
    "    plt.xlabel('Population of City in 10,000s')\n",
    "    plt.ylabel('Profit in $10,000s')\n",
    "    plt.show(block=False) # prevents having to close the graph to move forward "
   ]
  },
  {
   "cell_type": "code",
   "execution_count": 3,
   "metadata": {},
   "outputs": [],
   "source": [
    "# Loading the data\n",
    "data = np.loadtxt('ex1data1.txt', delimiter=\",\")\n",
    "X = data[:,0]\n",
    "y = data[:,1]\n",
    "m = len(y) # number of training examples"
   ]
  },
  {
   "cell_type": "code",
   "execution_count": 4,
   "metadata": {},
   "outputs": [
    {
     "data": {
      "image/png": "[encoded data removed]",
      "text/plain": [
       "<Figure size 432x288 with 1 Axes>"
      ]
     },
     "metadata": {
      "needs_background": "light"
     },
     "output_type": "display_data"
    }
   ],
   "source": [
    "# Plot the graph\n",
    "plt.plot(X,y,'rx', markersize=10, label='Training data') \n",
    "plt.ylabel('Profit in $10,000s')\n",
    "plt.xlabel('Population of City in 10,000s') \n",
    "plt.show()"
   ]
  },
  {
   "cell_type": "markdown",
   "metadata": {},
   "source": [
    "Step 2 : Implement cost function <a name='step1' />"
   ]
  },
  {
   "cell_type": "markdown",
   "metadata": {},
   "source": [
    "Formula in Matlab:\n",
    "J = (1/(2*m)) *sum( (((X*theta)-y).^2))\n",
    "\n",
    "Now, I need to use the same formula in Python"
   ]
  },
  {
   "cell_type": "code",
   "execution_count": 13,
   "metadata": {},
   "outputs": [],
   "source": [
    "def computeCost(X, y, theta):\n",
    "    \n",
    "    # (X*theta)-y).^2\n",
    "    # Dot product of two arrays\n",
    "    s = np.power(( X.dot(theta) - np.transpose([y]) ), 2)\n",
    "    #J = (1/(2*m)) *sum( (((X*t.heta)-y).^2))\n",
    "    J = (1.0/(2*m)) * s.sum( axis = 0 )\n",
    "    \n",
    "    return J\n"
   ]
  },
  {
   "cell_type": "markdown",
   "metadata": {},
   "source": [
    "Step 3 : Implement Gradient Descent <a name='step3' />"
   ]
  },
  {
   "cell_type": "code",
   "execution_count": 16,
   "metadata": {},
   "outputs": [],
   "source": [
    "J_history = np.zeros((2, 1))\n",
    "\n",
    "def gradientDescent(X, y, theta, alpha, num_iters):\n",
    "    # Initialize some useful values\n",
    "    m = len(y) # number of training examples\n",
    "    global J_history\n",
    "    J_history = np.zeros((num_iters, 1))\n",
    "    \n",
    "    for i in range(num_iters):\n",
    "        \n",
    "        # Formula: θj:=θj−α * ∂θj∂J(θ0,θ1), ∂θj∂J(θ0,θ1) will be smaller and smaller\n",
    "    \n",
    "        theta = theta - alpha*(1.0/m) * np.transpose(X).dot(X.dot(theta) - np.transpose([y]))\n",
    "        J_history[i] = computeCost(X, y, theta)\n",
    "    return theta"
   ]
  },
  {
   "cell_type": "markdown",
   "metadata": {},
   "source": [
    "Step 4 : Run Gradient Descent and predict <a name='step4' />"
   ]
  },
  {
   "cell_type": "code",
   "execution_count": 17,
   "metadata": {},
   "outputs": [
    {
     "data": {
      "text/plain": [
       "array([32.07273388])"
      ]
     },
     "execution_count": 17,
     "metadata": {},
     "output_type": "execute_result"
    }
   ],
   "source": [
    "# Prepare matrixs\n",
    "X_padded = np.column_stack((np.ones((m,1)), X)) # Add a column of ones to x, which is the constant\n",
    "theta = np.zeros((2, 1)) # initialize fitting parameters, y= theta1 x + theta 2\n",
    "\n",
    "# Settings for the gradient descent \n",
    "iterations = 1500\n",
    "alpha = 0.01\n",
    "\n",
    "# compute and display initial cost\n",
    "computeCost(X_padded, y, theta)"
   ]
  },
  {
   "cell_type": "code",
   "execution_count": 18,
   "metadata": {},
   "outputs": [
    {
     "name": "stdout",
     "output_type": "stream",
     "text": [
      "Theta found by gradient descent: \n",
      "-3.630291, 1.166362\n"
     ]
    }
   ],
   "source": [
    "# run gradient descent\n",
    "theta = gradientDescent(X_padded, y, theta, alpha, iterations)\n",
    "\n",
    "# print theta to screen\n",
    "print('Theta found by gradient descent: ')\n",
    "print(\"{:f}, {:f}\".format(theta[0,0], theta[1,0]))"
   ]
  },
  {
   "cell_type": "code",
   "execution_count": 19,
   "metadata": {
    "scrolled": true
   },
   "outputs": [
    {
     "data": {
      "text/plain": [
       "array([[6.73719046],\n",
       "       [5.93159357],\n",
       "       [5.90115471],\n",
       "       ...,\n",
       "       [4.48343473],\n",
       "       [4.48341145],\n",
       "       [4.48338826]])"
      ]
     },
     "execution_count": 19,
     "metadata": {},
     "output_type": "execute_result"
    }
   ],
   "source": [
    "J_history"
   ]
  },
  {
   "cell_type": "markdown",
   "metadata": {},
   "source": [
    "J is still decreaseing"
   ]
  },
  {
   "cell_type": "code",
   "execution_count": 20,
   "metadata": {},
   "outputs": [
    {
     "data": {
      "image/png": "[encoded data removed]",
      "text/plain": [
       "<Figure size 432x288 with 1 Axes>"
      ]
     },
     "metadata": {
      "needs_background": "light"
     },
     "output_type": "display_data"
    }
   ],
   "source": [
    "# # Plot the linear fit\n",
    "plt.plot(X,y,'rx', markersize=10, label='Training data') \n",
    "plt.ylabel('Profit in $10,000s')\n",
    "plt.xlabel('Population of City in 10,000s') \n",
    "plt.plot(X,X_padded.dot(theta),'-', label='Linear regression')\n",
    "plt.legend(loc='lower right')\n",
    "plt.draw()"
   ]
  },
  {
   "cell_type": "code",
   "execution_count": 21,
   "metadata": {},
   "outputs": [
    {
     "name": "stdout",
     "output_type": "stream",
     "text": [
      "For population = 35,000, we predict a profit of 4519.767868\n",
      "For population = 70,000, we predict a profit of 45342.450129\n"
     ]
    }
   ],
   "source": [
    "# # Predict values for population sizes of 35,000 and 70,000\n",
    "predict1 = np.array([1, 3.5]).dot(theta)\n",
    "print(\"For population = 35,000, we predict a profit of {:f}\".format( float(predict1*10000) ))\n",
    "predict2 = np.array([1, 7]).dot(theta)\n",
    "print('For population = 70,000, we predict a profit of {:f}'.format( float(predict2*10000) ))\n"
   ]
  }
 ],
 "metadata": {
  "kernelspec": {
   "display_name": "Python 3",
   "language": "python",
   "name": "python3"
  },
  "language_info": {
   "codemirror_mode": {
    "name": "ipython",
    "version": 3
   },
   "file_extension": ".py",
   "mimetype": "text/x-python",
   "name": "python",
   "nbconvert_exporter": "python",
   "pygments_lexer": "ipython3",
   "version": "3.7.3"
  }
 },
 "nbformat": 4,
 "nbformat_minor": 4
}
